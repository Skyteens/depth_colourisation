{
  "nbformat": 4,
  "nbformat_minor": 0,
  "metadata": {
    "colab": {
      "name": "Depth Colouring.ipynb",
      "provenance": [],
      "collapsed_sections": [],
      "authorship_tag": "ABX9TyOd1oZhVUMxN3zgY7fMFjgy",
      "include_colab_link": true
    },
    "kernelspec": {
      "name": "python3",
      "display_name": "Python 3"
    },
    "language_info": {
      "name": "python"
    }
  },
  "cells": [
    {
      "cell_type": "markdown",
      "metadata": {
        "id": "view-in-github",
        "colab_type": "text"
      },
      "source": [
        "<a href=\"https://colab.research.google.com/github/Skyteens/depth_colourisation/blob/main/Depth_Colouring.ipynb\" target=\"_parent\"><img src=\"https://colab.research.google.com/assets/colab-badge.svg\" alt=\"Open In Colab\"/></a>"
      ]
    },
    {
      "cell_type": "markdown",
      "source": [
        "# Clone Github files "
      ],
      "metadata": {
        "id": "z9ncQoNYxupv"
      }
    },
    {
      "cell_type": "code",
      "execution_count": 1,
      "metadata": {
        "colab": {
          "base_uri": "https://localhost:8080/"
        },
        "id": "9cSbl8oNoo0_",
        "outputId": "7e661b09-4139-4178-f76b-d6d74ef18653"
      },
      "outputs": [
        {
          "output_type": "stream",
          "name": "stdout",
          "text": [
            "Cloning into 'colouring'...\n",
            "remote: Enumerating objects: 94, done.\u001b[K\n",
            "remote: Counting objects: 100% (94/94), done.\u001b[K\n",
            "remote: Compressing objects: 100% (74/74), done.\u001b[K\n",
            "remote: Total 94 (delta 29), reused 77 (delta 17), pack-reused 0\u001b[K\n",
            "Unpacking objects: 100% (94/94), done.\n"
          ]
        }
      ],
      "source": [
        "!git clone https://github.com/Skyteens/depth_colourisation.git colouring"
      ]
    },
    {
      "cell_type": "code",
      "source": [
        "cd colouring"
      ],
      "metadata": {
        "colab": {
          "base_uri": "https://localhost:8080/"
        },
        "id": "rWtKjfcXyMBH",
        "outputId": "9cd41ba8-8937-44b3-9160-c8fc0637209e"
      },
      "execution_count": 2,
      "outputs": [
        {
          "output_type": "stream",
          "name": "stdout",
          "text": [
            "/content/colouring\n"
          ]
        }
      ]
    },
    {
      "cell_type": "markdown",
      "source": [
        "# Download Weights"
      ],
      "metadata": {
        "id": "bvxhgx6yx04X"
      }
    },
    {
      "cell_type": "code",
      "source": [
        "!pip install --upgrade --no-cache-dir gdown --quiet"
      ],
      "metadata": {
        "colab": {
          "base_uri": "https://localhost:8080/"
        },
        "id": "L6IqxQFKww6l",
        "outputId": "325ee0a0-0b4e-44d2-e872-c4caaaa20f94"
      },
      "execution_count": 3,
      "outputs": [
        {
          "output_type": "stream",
          "name": "stdout",
          "text": [
            "  Installing build dependencies ... \u001b[?25l\u001b[?25hdone\n",
            "  Getting requirements to build wheel ... \u001b[?25l\u001b[?25hdone\n",
            "    Preparing wheel metadata ... \u001b[?25l\u001b[?25hdone\n",
            "  Building wheel for gdown (PEP 517) ... \u001b[?25l\u001b[?25hdone\n"
          ]
        }
      ]
    },
    {
      "cell_type": "code",
      "source": [
        "!gdown --id \"1EOw5V1zdX-vA4NukFKEde1zSNghdciAk\" --quiet"
      ],
      "metadata": {
        "id": "rYm4gODLsYoY"
      },
      "execution_count": 4,
      "outputs": []
    },
    {
      "cell_type": "code",
      "source": [
        "!unzip weights.zip"
      ],
      "metadata": {
        "colab": {
          "base_uri": "https://localhost:8080/"
        },
        "id": "Ura8q6OzxFaY",
        "outputId": "24074d7e-7d91-4452-bffd-efc96ad0d241"
      },
      "execution_count": 5,
      "outputs": [
        {
          "output_type": "stream",
          "name": "stdout",
          "text": [
            "Archive:  weights.zip\n",
            "   creating: weights/\n",
            "  inflating: weights/depthEstimate.pth  \n",
            "  inflating: weights/inst_depth.pt   \n"
          ]
        }
      ]
    },
    {
      "cell_type": "markdown",
      "source": [
        "# Colourise images"
      ],
      "metadata": {
        "id": "TENMNHH5yM9U"
      }
    },
    {
      "cell_type": "markdown",
      "source": [
        "Initialise pre-trained model"
      ],
      "metadata": {
        "id": "vcFwvOwXySfE"
      }
    },
    {
      "cell_type": "code",
      "source": [
        "from estimate import *\n",
        "depthModel = colorizer_init()\n"
      ],
      "metadata": {
        "colab": {
          "base_uri": "https://localhost:8080/"
        },
        "id": "W6vFWVTir-_q",
        "outputId": "653db0a8-77e1-4ac4-8722-7f60644d76ae"
      },
      "execution_count": 6,
      "outputs": [
        {
          "output_type": "stream",
          "name": "stdout",
          "text": [
            "Model Initialised\n"
          ]
        }
      ]
    },
    {
      "cell_type": "code",
      "source": [
        "def showImg(img):\n",
        "  plt.imshow(colourImg)\n",
        "  plt.axis(\"off\")\n",
        "  plt.rcParams[\"figure.figsize\"] = (15,5)\n",
        "  plt.show()"
      ],
      "metadata": {
        "id": "4tftIdLY79rQ"
      },
      "execution_count": 31,
      "outputs": []
    },
    {
      "cell_type": "markdown",
      "source": [
        "Feel free to add your own images into the \"test_imgs\" Folder and change the pic number. Currently only accepted image type is JPG or PNG"
      ],
      "metadata": {
        "id": "1SsHdBNKyW32"
      }
    },
    {
      "cell_type": "code",
      "source": [
        "pic = 0\n",
        "pred,gray  = estimate_from_folder(depthModel,pic)\n",
        "colourImg= np.concatenate([gray, pred], 1)\n",
        "showImg(colourImg)"
      ],
      "metadata": {
        "id": "gcjlJzLlsEPA"
      },
      "execution_count": null,
      "outputs": []
    },
    {
      "cell_type": "markdown",
      "source": [
        "Or you can input any image from online using an URL"
      ],
      "metadata": {
        "id": "XgyYUCrZ9jJA"
      }
    },
    {
      "cell_type": "code",
      "execution_count": null,
      "metadata": {
        "id": "V7s96D5LP4cT"
      },
      "outputs": [],
      "source": [
        "source_url = '' #@param {type:\"string\"}\n",
        "\n",
        "if source_url is not None and source_url !='':\n",
        "    pred,gray= estimate_from_url(depthModel,url=source_url)\n",
        "    colourImg= np.concatenate([gray, pred], 1)\n",
        "    showImg(colourImg)\n",
        "else:\n",
        "    print('Provide an image url and try again.')"
      ]
    }
  ]
}